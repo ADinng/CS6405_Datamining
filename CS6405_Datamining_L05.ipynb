{
  "nbformat": 4,
  "nbformat_minor": 0,
  "metadata": {
    "colab": {
      "provenance": [],
      "authorship_tag": "ABX9TyM9L3ru0bU//FesN8qOw5b+",
      "include_colab_link": true
    },
    "kernelspec": {
      "name": "python3",
      "display_name": "Python 3"
    },
    "language_info": {
      "name": "python"
    }
  },
  "cells": [
    {
      "cell_type": "markdown",
      "metadata": {
        "id": "view-in-github",
        "colab_type": "text"
      },
      "source": [
        "<a href=\"https://colab.research.google.com/github/ADinng/CS6405_Datamining/blob/main/CS6405_Datamining_L05.ipynb\" target=\"_parent\"><img src=\"https://colab.research.google.com/assets/colab-badge.svg\" alt=\"Open In Colab\"/></a>"
      ]
    },
    {
      "cell_type": "code",
      "execution_count": null,
      "metadata": {
        "colab": {
          "base_uri": "https://localhost:8080/"
        },
        "id": "2txZl71Zxd1E",
        "outputId": "20b2226f-93d7-49dc-f17e-e982e2194ebb"
      },
      "outputs": [
        {
          "output_type": "stream",
          "name": "stdout",
          "text": [
            "[[0.  ]\n",
            " [0.25]\n",
            " [0.5 ]\n",
            " [0.75]\n",
            " [1.  ]]\n"
          ]
        }
      ],
      "source": [
        "from sklearn.preprocessing import MinMaxScaler\n",
        "import numpy as np\n",
        "\n",
        "data = np.array([[10], [20], [30], [40], [50]])\n",
        "scaler = MinMaxScaler(feature_range=(0, 1))  # Scale between 0 and 1\n",
        "normalized_data = scaler.fit_transform(data)\n",
        "print(normalized_data)\n"
      ]
    },
    {
      "cell_type": "code",
      "source": [
        "from sklearn import preprocessing\n",
        "import numpy as np\n",
        "\n",
        "customer = np.array([[35, 35, 3],\n",
        "                     [22, 50, 2],\n",
        "                     [63, 200, 1],\n",
        "                     [59, 170, 1],\n",
        "                     [25, 40, 4]]\n",
        "                    )\n",
        "\n",
        "print(customer)\n",
        "print(\"=================\")\n",
        "\n",
        "# Define and fit the scaler\n",
        "scalingObj = preprocessing.StandardScaler()  # or preprocessing.MinMaxScaler()\n",
        "scalingObj.fit(customer)  # Fit the scaler to the data\n",
        "\n",
        "# Transform the data\n",
        "new_customer = scalingObj.transform(customer)\n",
        "print(new_customer)"
      ],
      "metadata": {
        "colab": {
          "base_uri": "https://localhost:8080/"
        },
        "id": "uHwKQ_UbyAe9",
        "outputId": "5943d584-1e02-4233-af15-be4c988210cc"
      },
      "execution_count": null,
      "outputs": [
        {
          "output_type": "stream",
          "name": "stdout",
          "text": [
            "[[ 35  35   3]\n",
            " [ 22  50   2]\n",
            " [ 63 200   1]\n",
            " [ 59 170   1]\n",
            " [ 25  40   4]]\n",
            "=================\n",
            "[[-0.33932637 -0.90114035  0.68599434]\n",
            " [-1.09988549 -0.68993558 -0.17149859]\n",
            " [ 1.29880095  1.42211211 -1.02899151]\n",
            " [ 1.06478276  0.99970257 -1.02899151]\n",
            " [-0.92437184 -0.83073876  1.54348727]]\n"
          ]
        }
      ]
    },
    {
      "cell_type": "code",
      "source": [
        "#  let's\n",
        "import pandas as pd\n",
        "np.random.seed(2021)\n",
        "seriesA = pd.Series(np.random.rand(4)*100, index=['a','b','c','d'])\n",
        "\n",
        "\n"
      ],
      "metadata": {
        "id": "hCQ94oNHyx3y"
      },
      "execution_count": null,
      "outputs": []
    }
  ]
}