{
  "nbformat": 4,
  "nbformat_minor": 0,
  "metadata": {
    "colab": {
      "provenance": [],
      "authorship_tag": "ABX9TyPp+iFBAaHnKaL66ZmSlBq8",
      "include_colab_link": true
    },
    "kernelspec": {
      "name": "python3",
      "display_name": "Python 3"
    },
    "language_info": {
      "name": "python"
    }
  },
  "cells": [
    {
      "cell_type": "markdown",
      "metadata": {
        "id": "view-in-github",
        "colab_type": "text"
      },
      "source": [
        "<a href=\"https://colab.research.google.com/github/ADinng/CS6405_Datamining/blob/main/CS6405_DM_lad_notes.ipynb\" target=\"_parent\"><img src=\"https://colab.research.google.com/assets/colab-badge.svg\" alt=\"Open In Colab\"/></a>"
      ]
    },
    {
      "cell_type": "markdown",
      "source": [
        "## lab07"
      ],
      "metadata": {
        "id": "zZF3R7K3B5yR"
      }
    },
    {
      "cell_type": "code",
      "execution_count": 1,
      "metadata": {
        "colab": {
          "base_uri": "https://localhost:8080/"
        },
        "id": "Mq3h6VHyB4n8",
        "outputId": "77a2cd1f-c688-4d37-dc5a-6d0442b11918"
      },
      "outputs": [
        {
          "output_type": "stream",
          "name": "stdout",
          "text": [
            "0.6428571428571429\n",
            "Best parameters found:  {'criterion': 'entropy', 'max_depth': 1, 'min_samples_leaf': 1}\n",
            "0.7380952380952381\n",
            "0.8333333333333334\n"
          ]
        }
      ],
      "source": [
        "# Consider the Sonar dataset: http://archive.ics.uci.edu/ml/datasets/connectionist+bench+(sonar,+mines+vs.+rocks)\n",
        "\n",
        "# This dataset is used for binary classification, the last column is the target.\n",
        "\n",
        "# Task:\n",
        "# 1.Load the dataset\n",
        "import pandas as pd\n",
        "df = pd.read_csv(\"http://archive.ics.uci.edu/ml/machine-learning-databases/undocumented/connectionist-bench/sonar/sonar.all-data\", header = None)\n",
        "\n",
        "df[60] # this is the label\n",
        "\n",
        "# 2.Use a label encoder to encode the target.\n",
        "from sklearn.preprocessing import LabelEncoder\n",
        "encoder = LabelEncoder()\n",
        "df[60]= encoder.fit_transform(df[60])\n",
        "\n",
        "# 3.Train-Test split 80-20. Use 42 as random seed.\n",
        "from sklearn.model_selection import train_test_split\n",
        "X = df.drop(60, axis=1)\n",
        "y = df[60]\n",
        "\n",
        "X_train, X_test, y_train, y_test = train_test_split(X, y, test_size = 0.2, random_state=42)\n",
        "\n",
        "# 4.Train a Decision Tree on the dataset and report the accuracy result.\n",
        "from sklearn.tree import DecisionTreeClassifier\n",
        "from sklearn.metrics import accuracy_score\n",
        "\n",
        "tree_classifier = DecisionTreeClassifier()\n",
        "tree_classifier.fit(X_train, y_train)\n",
        "\n",
        "prediction = tree_classifier.predict(X_test)\n",
        "print(accuracy_score(y_test, prediction))\n",
        "# 0.6428571428571429\n",
        "\n",
        "# 5.Improve the Decision Tree definining a parameter grid and using Grid Search.\n",
        "from sklearn.model_selection import GridSearchCV\n",
        "from sklearn.model_selection import cross_val_score\n",
        "\n",
        "param_grid = {\n",
        "    'criterion': ['gini', 'entropy'],\n",
        "    'max_depth': [1,2,3,4],\n",
        "    'min_samples_leaf': [1, 2],\n",
        "}\n",
        "\n",
        "searcher = GridSearchCV(tree_classifier,param_grid)\n",
        "\n",
        "searcher.fit(X_train, y_train)\n",
        "\n",
        "best_params = searcher.best_params_\n",
        "\n",
        "print(\"Best parameters found: \", best_params)\n",
        "best_classifier = searcher.best_estimator_\n",
        "\n",
        "prediction = best_classifier.predict(X_test)\n",
        "print(accuracy_score(y_test, prediction))\n",
        "# Best parameters found:  {'criterion': 'gini', 'max_depth': 4, 'min_samples_leaf': 2} 0.6666666666666666\n",
        "\n",
        "# 6.Test a different classification model, the SVC: https://scikit-learn.org/stable/modules/generated/sklearn.svm.SVC.html\n",
        "from sklearn.svm import SVC\n",
        "\n",
        "SVC_classifier = SVC(random_state=42)\n",
        "SVC_classifier.fit(X_train, y_train)\n",
        "\n",
        "prediction = SVC_classifier.predict(X_test)\n",
        "print(accuracy_score(y_test, prediction))\n",
        "# 0.8333333333333334\n",
        "# 7.Which has a higher accuracy?"
      ]
    }
  ]
}